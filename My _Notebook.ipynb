{
 "cells": [
  {
   "cell_type": "code",
   "execution_count": 1,
   "id": "47aa96c9-347f-4f2b-ba73-74152073bee3",
   "metadata": {},
   "outputs": [
    {
     "data": {
      "text/plain": [
       "2"
      ]
     },
     "execution_count": 1,
     "metadata": {},
     "output_type": "execute_result"
    }
   ],
   "source": [
    "1+1"
   ]
  },
  {
   "cell_type": "markdown",
   "id": "d218cf0a-18ad-430c-913d-979ec0e1b4f1",
   "metadata": {},
   "source": [
    "My Title"
   ]
  },
  {
   "cell_type": "markdown",
   "id": "74fd46b8-b53c-442b-b59d-a94c23dd9ded",
   "metadata": {},
   "source": [
    "MY JUPYTER NOTEBOOK"
   ]
  },
  {
   "cell_type": "code",
   "execution_count": null,
   "id": "be93c38c-336e-4186-85aa-e24e01a6a8cf",
   "metadata": {},
   "outputs": [],
   "source": [
    "MELUSI NYONI DATA SCIENTIST"
   ]
  },
  {
   "cell_type": "code",
   "execution_count": null,
   "id": "e9ad36ec-130c-403d-af59-bc994f8254d4",
   "metadata": {},
   "outputs": [],
   "source": [
    "I AM INTERESTED IN DATA SCIENCE BECAUSE IT GIVES YOU VALUABLE INSIGHT ON BUSINESS"
   ]
  },
  {
   "cell_type": "code",
   "execution_count": null,
   "id": "9d7f283a-a103-4c76-b9e0-65e86e77bbfc",
   "metadata": {},
   "outputs": [],
   "source": [
    "MY CODE IS SUPPOSED TO ADD THE NUMBERS"
   ]
  },
  {
   "cell_type": "code",
   "execution_count": null,
   "id": "409a39e4-d634-46be-85a8-b45623b4f0a4",
   "metadata": {},
   "outputs": [],
   "source": [
    "1+1=2"
   ]
  },
  {
   "cell_type": "code",
   "execution_count": null,
   "id": "8e045370-722a-460c-a716-dba176afabc1",
   "metadata": {},
   "outputs": [],
   "source": []
  }
 ],
 "metadata": {
  "kernelspec": {
   "display_name": "Python",
   "language": "python",
   "name": "conda-env-python-py"
  },
  "language_info": {
   "codemirror_mode": {
    "name": "ipython",
    "version": 3
   },
   "file_extension": ".py",
   "mimetype": "text/x-python",
   "name": "python",
   "nbconvert_exporter": "python",
   "pygments_lexer": "ipython3",
   "version": "3.7.12"
  }
 },
 "nbformat": 4,
 "nbformat_minor": 5
}
